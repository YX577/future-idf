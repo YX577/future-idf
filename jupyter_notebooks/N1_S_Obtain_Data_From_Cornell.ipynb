{
 "cells": [
  {
   "cell_type": "code",
   "execution_count": 1,
   "metadata": {},
   "outputs": [],
   "source": [
    "from urllib.request import urlopen\n",
    "import pandas as pd\n",
    "import urllib\n",
    "import json \n",
    "import os"
   ]
  },
  {
   "cell_type": "code",
   "execution_count": null,
   "metadata": {},
   "outputs": [],
   "source": [
    "## Read stations from selected stations csv\n",
    "stations = pd.read_csv(\"ches_daily_selected_stations.csv\")"
   ]
  },
  {
   "cell_type": "code",
   "execution_count": 3,
   "metadata": {},
   "outputs": [],
   "source": [
    "## Reformat data from the csv file\n",
    "stations['ID'] = [x.split(' ')[0] for x in stations['Longterm SID'].values]\n",
    "stations.set_index('ID', inplace=True)"
   ]
  },
  {
   "cell_type": "code",
   "execution_count": null,
   "metadata": {},
   "outputs": [],
   "source": [
    "## For loop to get station time series from the Cornell API\n",
    "\n",
    "for stn in stations.index:\n",
    "    \n",
    "    yr_start = str(stations.loc[stn, 'POR Start'])\n",
    "    yr_end = str(stations.loc[stn, 'POR End'])\n",
    "    duration_val = 1\n",
    "    input_dict = {\"sid\":stn,\"sdate\":yr_start+\"-01-01\",\"edate\":yr_end+\"-09-10\",\"elems\":[{\"name\":\"pcpn\",\"interval\":\"dly\",\"duration\":duration_val,\"reduce\":\"sum\",\"maxmissing\":\"0\"}]}    \n",
    "    params = urllib.parse.urlencode({'params':json.dumps(input_dict)})\n",
    "    params = params.encode('ascii')\n",
    "    req = urllib.request.Request('http://data.rcc-acis.org/StnData', params, {'Accept':'application/json'})\n",
    "    with urllib.request.urlopen(req) as response:\n",
    "        the_page = response.read()\n",
    "    data_vals = json.loads(the_page)\n",
    "\n",
    "\n",
    "    date = [x[0] for x in data_vals['data']]\n",
    "    prcp_vals = [x[1] for x in data_vals['data']]\n",
    "\n",
    "    station_df = pd.DataFrame(prcp_vals, date, columns=['prcp'])\n",
    "    \n",
    "    if not os.path.isdir(\"station_data/ts\"):\n",
    "        os.makedirs(\"station_data/ts\")\n",
    "    station_df.to_csv(\"station_data/ts/{}.csv\".format(stn))"
   ]
  }
 ],
 "metadata": {
  "kernelspec": {
   "display_name": "Python 3",
   "language": "python",
   "name": "python3"
  },
  "language_info": {
   "codemirror_mode": {
    "name": "ipython",
    "version": 3
   },
   "file_extension": ".py",
   "mimetype": "text/x-python",
   "name": "python",
   "nbconvert_exporter": "python",
   "pygments_lexer": "ipython3",
   "version": "3.8.3"
  }
 },
 "nbformat": 4,
 "nbformat_minor": 4
}
