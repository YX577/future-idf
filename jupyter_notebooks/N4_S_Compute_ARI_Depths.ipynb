{
 "cells": [
  {
   "cell_type": "code",
   "execution_count": 6,
   "metadata": {},
   "outputs": [],
   "source": [
    "library(extRemes)\n",
    "library(glue)"
   ]
  },
  {
   "cell_type": "code",
   "execution_count": 7,
   "metadata": {},
   "outputs": [],
   "source": [
    "# Read data into notebook\n",
    "\n",
    "infile <- glue(\"station_data/gev_params_all_stations.csv\")\n",
    "params <- read.csv(file=infile, header=T, sep=',')"
   ]
  },
  {
   "cell_type": "code",
   "execution_count": 8,
   "metadata": {},
   "outputs": [],
   "source": [
    "# Estimate precipitation depth for the different bounds:\n",
    "\n",
    "bounds = c('best') # Upper, lower bounds and best estimate"
   ]
  },
  {
   "cell_type": "code",
   "execution_count": 9,
   "metadata": {},
   "outputs": [],
   "source": [
    "# For each bound and best estimate of the GEV parameters that were estimated in previous\n",
    "# notebooks, obtain the precipitation depth value from storms of 2-, 5-, 10-, 25-, 50-,\n",
    "# 100-year. The estimates are estimated in csv files with the bound used (or best estimate),\n",
    "# in the filename. The output is organized by grid cell (row) and return period (columns).\n",
    "\n",
    "for (bnd in bounds){\n",
    "    if (bnd == 'upper'){\n",
    "        df = subset(params, select = -c(L_loc, loc, L_scale, scale, L_shape,shape))\n",
    "    } else if (bnd == 'lower'){\n",
    "        df = subset(params, select = -c(U_loc, loc, U_scale, scale, U_shape,shape) )\n",
    "    } else if (bnd == 'best'){\n",
    "        df = subset(params, select = -c(U_loc, L_loc, U_scale, L_scale, U_shape, L_shape))\n",
    "    }\n",
    "    params <- t(df)\n",
    "    model.name <- params[\"models\", ]\n",
    "\n",
    "    f = (length(model.name))\n",
    "    rl.cals <- data.frame(matrix(ncol = 7, nrow =length(model.name) ))\n",
    "    colnames(rl.cals) <- c(\"models\", \"2-yr\", \"5-yr\",\n",
    "                                     \"10-yr\", \"25-yr\", \"50-yr\",\n",
    "                                     \"100-yr\")\n",
    "    rl.cals[1] <- as.vector(model.name)\n",
    "\n",
    "    for (model in 1:f){\n",
    "\n",
    "        pmodel <- params[, (model)]\n",
    "        pmodel <- pmodel[!is.na(pmodel)]\n",
    "        tryCatch({\n",
    "        rl.cals.single <- as.vector(rlevd(period=c(2,5,10,25,50,100), \n",
    "          loc = as.double(pmodel[3]), scale=as.double(pmodel[4]), shape=as.double(pmodel[5])))\n",
    "        rl.cals[model, c(2:7)] <- rl.cals.single\n",
    "        }, error = function(e){})\n",
    "    }\n",
    "    rl.cals[is.na(rl.cals)] <- 0\n",
    "    write.csv(rl.cals, glue('station_data/rp_{bnd}_depth.csv'))\n",
    "    \n",
    "}\n"
   ]
  },
  {
   "cell_type": "code",
   "execution_count": null,
   "metadata": {},
   "outputs": [],
   "source": []
  }
 ],
 "metadata": {
  "kernelspec": {
   "display_name": "R",
   "language": "R",
   "name": "ir"
  },
  "language_info": {
   "codemirror_mode": "r",
   "file_extension": ".r",
   "mimetype": "text/x-r-source",
   "name": "R",
   "pygments_lexer": "r",
   "version": "3.5.1"
  }
 },
 "nbformat": 4,
 "nbformat_minor": 2
}
