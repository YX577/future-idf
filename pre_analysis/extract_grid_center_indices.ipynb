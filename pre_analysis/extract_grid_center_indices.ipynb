{
 "cells": [
  {
   "cell_type": "code",
   "execution_count": 55,
   "metadata": {},
   "outputs": [],
   "source": [
    "\"\"\"\n",
    "Name: extract_grid_center_indices\n",
    "Author: Tania Lopez-Cantu\n",
    "Date: 06/13/2020\n",
    "-------------------------\n",
    "The following notebook writes into a csv file the coordinates of the gridcell centers of\n",
    "a NetCDF file. It assigns an id to each gridcell for creating a mesh for later easy mapping \n",
    "using ArcGIS, QGIS or geopandas.\n",
    "\"\"\"\n",
    "\n",
    "from netCDF4 import Dataset\n",
    "import numpy as np\n",
    "import pandas as pd\n",
    "import os\n",
    "import itertools"
   ]
  },
  {
   "cell_type": "code",
   "execution_count": 31,
   "metadata": {},
   "outputs": [],
   "source": [
    "\"\"\"\n",
    "Variables to modify:\n",
    "file_path --> path to where .nc file is stored\n",
    "save_path --> directory where to store the output of this notebook\n",
    "\"\"\"\n",
    "file_path = \"cheswx_prcp_1948_2015.experimental.2017-08-14.nc\"\n",
    "save_path = \"output/\"\n",
    "\n",
    "## code below is to avoid errors with user-specified paths, note that\n",
    "## \"save_path\" finishes with \"/\", but if user does not include, we need\n",
    "## to handle such case otherwise there will be an error in saving\n",
    "\n",
    "if save_path[-1] != \"/\":\n",
    "    save_path = f\"{save_path}/\""
   ]
  },
  {
   "cell_type": "code",
   "execution_count": 32,
   "metadata": {},
   "outputs": [],
   "source": [
    "# Load ncfile into notebook\n",
    "nc_file = Dataset(file_path, \"r\")"
   ]
  },
  {
   "cell_type": "code",
   "execution_count": 33,
   "metadata": {},
   "outputs": [
    {
     "data": {
      "text/plain": [
       "<class 'netCDF4._netCDF4.Dataset'>\n",
       "root group (NETCDF4 data model, file format HDF5):\n",
       "    title: Daily Interpolated Precipitation 19480101-20151231\n",
       "    institution: Pennsylvania State University\n",
       "    history: Created on: 2017-08-14 , experimental version 2\n",
       "    comment: The ChesWx (Chesapeake Weather) gridded precipitation dataset contains interpolations of daily total precipitation at ~4km spatial resolution for a region surrounding the U.S. Mid-Atlantic.\n",
       "    license: Creative Commons Attribution-NonCommercial-ShareAlike 4.0 International License (http://creativecommons.org/licenses/by-nc-sa/4.0/)\n",
       "    Conventions: CF-1.6\n",
       "    dimensions(sizes): time(24837), lon(207), lat(222), nv(2)\n",
       "    variables(dimensions): int64 time(time), float64 lon(lon), float64 lat(lat), float64 time_bnds(time,nv), int16 crs(), float32 prcp(time,lat,lon)\n",
       "    groups: "
      ]
     },
     "execution_count": 33,
     "metadata": {},
     "output_type": "execute_result"
    }
   ],
   "source": [
    "# Look into nc_file contents/info. \n",
    "nc_file"
   ]
  },
  {
   "cell_type": "code",
   "execution_count": 34,
   "metadata": {
    "scrolled": true
   },
   "outputs": [
    {
     "data": {
      "text/plain": [
       "{'time': <class 'netCDF4._netCDF4.Variable'>\n",
       " int64 time(time)\n",
       "     long_name: time\n",
       "     standard_name: time\n",
       "     bounds: time_bnds\n",
       "     comments: ending hour of daily total\n",
       "     units: hours since 1948-01-01\n",
       "     calendar: standard\n",
       " unlimited dimensions: \n",
       " current shape = (24837,)\n",
       " filling on, default _FillValue of -9223372036854775806 used,\n",
       " 'lon': <class 'netCDF4._netCDF4.Variable'>\n",
       " float64 lon(lon)\n",
       "     _FillValue: nan\n",
       "     units: degrees_east\n",
       "     long_name: longitude\n",
       "     standard_name: longitude\n",
       " unlimited dimensions: \n",
       " current shape = (207,)\n",
       " filling on,\n",
       " 'lat': <class 'netCDF4._netCDF4.Variable'>\n",
       " float64 lat(lat)\n",
       "     _FillValue: nan\n",
       "     units: degrees_north\n",
       "     long_name: latitude\n",
       "     standard_name: latitude\n",
       " unlimited dimensions: \n",
       " current shape = (222,)\n",
       " filling on,\n",
       " 'time_bnds': <class 'netCDF4._netCDF4.Variable'>\n",
       " float64 time_bnds(time, nv)\n",
       "     _FillValue: nan\n",
       " unlimited dimensions: \n",
       " current shape = (24837, 2)\n",
       " filling on,\n",
       " 'crs': <class 'netCDF4._netCDF4.Variable'>\n",
       " int16 crs()\n",
       "     semi_major_axis: 6378137.0\n",
       "     longitude_of_prime_meridian: 0.0\n",
       "     grid_mapping_name: latitude_longitude\n",
       "     inverse_flattening: 298.257223563\n",
       " unlimited dimensions: \n",
       " current shape = ()\n",
       " filling on, default _FillValue of -32767 used,\n",
       " 'prcp': <class 'netCDF4._netCDF4.Variable'>\n",
       " float32 prcp(time, lat, lon)\n",
       "     _FillValue: 9.96921e+36\n",
       "     units: mm\n",
       "     comment: Daily precipitation totals are based on a morning time of observation (0700 local standard time). For instance, the precipitation total given at time step 1953-05-02 07:00:00 is the 24 total from 1953-05-01 07:00:00 to 1953-05-02 07:00:00.\n",
       "     standard_name: precipitation_amount\n",
       "     cell_methods: latitude: point longitude: point time: sum\n",
       "     coordinates: lat lon\n",
       "     grid_mapping: crs\n",
       " unlimited dimensions: \n",
       " current shape = (24837, 222, 207)\n",
       " filling on}"
      ]
     },
     "execution_count": 34,
     "metadata": {},
     "output_type": "execute_result"
    }
   ],
   "source": [
    "\"\"\"\n",
    "# Access variables. Each variable is stored in a dictionary. \n",
    "# Important: Look at the comment under \"prcp\": Daily rainfall is based on\n",
    "# morning time of observation. When we get the AMS from these series, we will have F-Maxima\n",
    "# (fixed), not S-Maxima (sliding). Fixed maxima are defined exactly as the comment says, daily\n",
    "# rainfall is equal to the amount from one record time to another. Sliding maxima, however,\n",
    "# take into account that a rainstorm can produce rainfall that starts in the middle of a day\n",
    "# and continues over the next day. The total amount of rainfall delivered by the storm will\n",
    "# be broken down into two days according to the fixed recording time. This is documented\n",
    "# here: https://doi.org/10.1016/j.jhydrol.2016.09.058\n",
    "\"\"\"\n",
    "nc_file.variables"
   ]
  },
  {
   "cell_type": "code",
   "execution_count": 41,
   "metadata": {},
   "outputs": [
    {
     "data": {
      "text/plain": [
       "<class 'netCDF4._netCDF4.Variable'>\n",
       "int16 crs()\n",
       "    semi_major_axis: 6378137.0\n",
       "    longitude_of_prime_meridian: 0.0\n",
       "    grid_mapping_name: latitude_longitude\n",
       "    inverse_flattening: 298.257223563\n",
       "unlimited dimensions: \n",
       "current shape = ()\n",
       "filling on, default _FillValue of -32767 used"
      ]
     },
     "execution_count": 41,
     "metadata": {},
     "output_type": "execute_result"
    }
   ],
   "source": [
    "\"\"\"\n",
    "The information contained in the crs variable (This is the map projection)\n",
    "0corresponds to the WGS 1984 datum. Go to example 5.9 -> http://cfconventions.org/Data/cf-conventions/cf-conventions-1.3/build/ch05s06.html\n",
    "\"\"\"\n",
    "crs = nc_file.variables[\"crs\"]\n",
    "crs"
   ]
  },
  {
   "cell_type": "code",
   "execution_count": 51,
   "metadata": {},
   "outputs": [],
   "source": [
    "\"\"\"\n",
    "Latitude and Longitude variables are 1 dimensional, meaning that the grids are equally spaced.\n",
    "Note that this is not always the case because the Earth is curved and GCMs that simulate \n",
    "climate over a large area need to use a map projection that maintain a true ratio between the various \n",
    "areas represented on the map, leading to curved surfaces. When this is the case, the code in\n",
    "this notebook will not work.\n",
    "\"\"\"\n",
    "lat = np.ma.getdata(nc_file.variables[\"lat\"][:])\n",
    "lon = np.ma.getdata(nc_file.variables[\"lon\"][:])"
   ]
  },
  {
   "cell_type": "code",
   "execution_count": 62,
   "metadata": {},
   "outputs": [
    {
     "name": "stdout",
     "output_type": "stream",
     "text": [
      "Horizontal spacing: -0.0416666666666643\n",
      "Vertical spacing: 0.04166666666689878\n"
     ]
    }
   ],
   "source": [
    "# Get horizontal spacing \n",
    "horizontal_spacing = lat[1] - lat[0]\n",
    "\n",
    "# Get vertical spacing\n",
    "\n",
    "vertical_spacing = lon[1] - lon[0]\n",
    "\n",
    "# Almost the same as expected\n",
    "print(f\"Horizontal spacing: {horizontal_spacing}\")\n",
    "print(f\"Vertical spacing: {vertical_spacing}\")\n",
    "\n"
   ]
  },
  {
   "cell_type": "code",
   "execution_count": 64,
   "metadata": {},
   "outputs": [],
   "source": [
    "# Get coordinates of gridcell centers\n",
    "coords = [f\"{i},{j}\" for i,j in itertools.product(lat,lon)]\n",
    "indeces = [f\"id_{i}_{j}\" for i,j in itertools.product(np.arange(len(lat)),np.arange(len(lon)))]"
   ]
  },
  {
   "cell_type": "code",
   "execution_count": 69,
   "metadata": {
    "scrolled": true
   },
   "outputs": [],
   "source": [
    "# Create pandas dataframe that will be saved later.\n",
    "df = pd.DataFrame()\n",
    "df[\"grid_id\"] = indeces\n",
    "df[\"lat\"] = [x.split(\",\")[0] for x in coords] # index 0 is lat\n",
    "df[\"lon\"] = [x.split(\",\")[1] for x in coords] # index 1 is long"
   ]
  },
  {
   "cell_type": "code",
   "execution_count": 70,
   "metadata": {},
   "outputs": [
    {
     "data": {
      "text/html": [
       "<div>\n",
       "<style scoped>\n",
       "    .dataframe tbody tr th:only-of-type {\n",
       "        vertical-align: middle;\n",
       "    }\n",
       "\n",
       "    .dataframe tbody tr th {\n",
       "        vertical-align: top;\n",
       "    }\n",
       "\n",
       "    .dataframe thead th {\n",
       "        text-align: right;\n",
       "    }\n",
       "</style>\n",
       "<table border=\"1\" class=\"dataframe\">\n",
       "  <thead>\n",
       "    <tr style=\"text-align: right;\">\n",
       "      <th></th>\n",
       "      <th>grid_id</th>\n",
       "      <th>lat</th>\n",
       "      <th>lon</th>\n",
       "    </tr>\n",
       "  </thead>\n",
       "  <tbody>\n",
       "    <tr>\n",
       "      <th>0</th>\n",
       "      <td>id_0_0</td>\n",
       "      <td>43.25</td>\n",
       "      <td>-81.9999999994217</td>\n",
       "    </tr>\n",
       "    <tr>\n",
       "      <th>1</th>\n",
       "      <td>id_0_1</td>\n",
       "      <td>43.25</td>\n",
       "      <td>-81.9583333327548</td>\n",
       "    </tr>\n",
       "    <tr>\n",
       "      <th>2</th>\n",
       "      <td>id_0_2</td>\n",
       "      <td>43.25</td>\n",
       "      <td>-81.9166666660879</td>\n",
       "    </tr>\n",
       "    <tr>\n",
       "      <th>3</th>\n",
       "      <td>id_0_3</td>\n",
       "      <td>43.25</td>\n",
       "      <td>-81.874999999421</td>\n",
       "    </tr>\n",
       "    <tr>\n",
       "      <th>4</th>\n",
       "      <td>id_0_4</td>\n",
       "      <td>43.25</td>\n",
       "      <td>-81.8333333327541</td>\n",
       "    </tr>\n",
       "    <tr>\n",
       "      <th>...</th>\n",
       "      <td>...</td>\n",
       "      <td>...</td>\n",
       "      <td>...</td>\n",
       "    </tr>\n",
       "    <tr>\n",
       "      <th>45949</th>\n",
       "      <td>id_221_202</td>\n",
       "      <td>34.04166666666667</td>\n",
       "      <td>-73.58333333270711</td>\n",
       "    </tr>\n",
       "    <tr>\n",
       "      <th>45950</th>\n",
       "      <td>id_221_203</td>\n",
       "      <td>34.04166666666667</td>\n",
       "      <td>-73.54166666604021</td>\n",
       "    </tr>\n",
       "    <tr>\n",
       "      <th>45951</th>\n",
       "      <td>id_221_204</td>\n",
       "      <td>34.04166666666667</td>\n",
       "      <td>-73.4999999993733</td>\n",
       "    </tr>\n",
       "    <tr>\n",
       "      <th>45952</th>\n",
       "      <td>id_221_205</td>\n",
       "      <td>34.04166666666667</td>\n",
       "      <td>-73.4583333327064</td>\n",
       "    </tr>\n",
       "    <tr>\n",
       "      <th>45953</th>\n",
       "      <td>id_221_206</td>\n",
       "      <td>34.04166666666667</td>\n",
       "      <td>-73.4166666660395</td>\n",
       "    </tr>\n",
       "  </tbody>\n",
       "</table>\n",
       "<p>45954 rows × 3 columns</p>\n",
       "</div>"
      ],
      "text/plain": [
       "          grid_id                lat                 lon\n",
       "0          id_0_0              43.25   -81.9999999994217\n",
       "1          id_0_1              43.25   -81.9583333327548\n",
       "2          id_0_2              43.25   -81.9166666660879\n",
       "3          id_0_3              43.25    -81.874999999421\n",
       "4          id_0_4              43.25   -81.8333333327541\n",
       "...           ...                ...                 ...\n",
       "45949  id_221_202  34.04166666666667  -73.58333333270711\n",
       "45950  id_221_203  34.04166666666667  -73.54166666604021\n",
       "45951  id_221_204  34.04166666666667   -73.4999999993733\n",
       "45952  id_221_205  34.04166666666667   -73.4583333327064\n",
       "45953  id_221_206  34.04166666666667   -73.4166666660395\n",
       "\n",
       "[45954 rows x 3 columns]"
      ]
     },
     "execution_count": 70,
     "metadata": {},
     "output_type": "execute_result"
    }
   ],
   "source": [
    "# Result of above operations\n",
    "df"
   ]
  },
  {
   "cell_type": "code",
   "execution_count": 71,
   "metadata": {},
   "outputs": [],
   "source": [
    "# save df to path specified at the beginning of notebook\n",
    "name_csv = \"historical_ches_gridcells\"\n",
    "df.to_csv(f\"{save_path}{name_csv}.csv\")"
   ]
  }
 ],
 "metadata": {
  "kernelspec": {
   "display_name": "Python 3",
   "language": "python",
   "name": "python3"
  },
  "language_info": {
   "codemirror_mode": {
    "name": "ipython",
    "version": 3
   },
   "file_extension": ".py",
   "mimetype": "text/x-python",
   "name": "python",
   "nbconvert_exporter": "python",
   "pygments_lexer": "ipython3",
   "version": "3.8.3"
  }
 },
 "nbformat": 4,
 "nbformat_minor": 4
}